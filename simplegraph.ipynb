{
 "cells": [
  {
   "cell_type": "markdown",
   "metadata": {},
   "source": [
    "Typing extension is used for when ever graph gets executed it should retain all in state schema in the dict form"
   ]
  },
  {
   "cell_type": "code",
   "execution_count": 15,
   "metadata": {},
   "outputs": [],
   "source": [
    "from typing_extensions import TypedDict\n",
    "\n",
    "class State(TypedDict):\n",
    "    graph_info:str\n"
   ]
  },
  {
   "cell_type": "code",
   "execution_count": 16,
   "metadata": {},
   "outputs": [],
   "source": [
    "def start_play(state:State):\n",
    "    print(\"Strat Play node has been called\")\n",
    "    return{\"graph_info\":state[\"graph_info\"]+\"I am planing too play\"}"
   ]
  },
  {
   "cell_type": "code",
   "execution_count": 17,
   "metadata": {},
   "outputs": [],
   "source": [
    "def cricket(state:State):\n",
    "    print(\"Cricket node has been called\")\n",
    "    return{\"graph_info\":state[\"graph_info\"]+\"Cricket\"}\n",
    "\n",
    "def badminton(state:State):\n",
    "    print(\"Cricket node has been called\")\n",
    "    return{\"graph_info\":state[\"graph_info\"]+\"Badmiton\"}\n",
    "\n"
   ]
  },
  {
   "cell_type": "code",
   "execution_count": 18,
   "metadata": {},
   "outputs": [
    {
     "name": "stdout",
     "output_type": "stream",
     "text": [
      "<built-in method random of Random object at 0x139013020>\n"
     ]
    }
   ],
   "source": [
    "#using Literal to decide weather the play has to choos randomly any one\n",
    "import random\n",
    "from typing_extensions import Literal\n",
    "\n",
    "def random_play(state:State) -> Literal['cricket','badminton']:\n",
    "    if ((random.random)>0.5):\n",
    "        return 'cricket'\n",
    "    else:\n",
    "        return 'badminton'\n",
    "print(random.random)"
   ]
  },
  {
   "cell_type": "code",
   "execution_count": 19,
   "metadata": {},
   "outputs": [],
   "source": [
    "# from IPython.display import Image,display\n",
    "# from langgraph.graph import StateGraph,START,END\n",
    "\n",
    "\n",
    "# #Build Graph\n",
    "# graph=StateGraph(State)\n",
    "\n",
    "\n",
    "# ## add all the node\n",
    "# graph.add_node(\"start_play\",start_play)\n",
    "# graph.add_node(\"cricket\",cricket)\n",
    "# graph.add_node(\"badmiton\",badmiton)\n",
    "\n",
    "# ### Shedule the nodes\n",
    "\n",
    "# graph.add_edge(START,\"start_play\")\n",
    "# graph.add_conditional_edges(\"start_play\",random_play)\n",
    "# graph.add_edge(\"cricket\",END)\n",
    "# graph.add_edge(\"badmiton\",END)\n",
    "\n",
    "# ## Compiling the graph\n",
    "# graphbuilder=graph.compile()\n",
    "\n",
    "\n",
    "# #To display the work flow\n",
    "\n",
    "\n",
    "# #display(Image(graphbuilder.get_graph().draw_mermaid_png(draw_method=MermaidDrawMethod.PYPPETEER)))\n",
    "# display(Image(graphbuilder.get_graph().draw_mermaid_png(max_retries=2, retry_delay=0.20)))\n",
    "\n"
   ]
  },
  {
   "cell_type": "code",
   "execution_count": 20,
   "metadata": {},
   "outputs": [],
   "source": [
    "#pip install langgraph graphviz IPython\n",
    "#pip install grandalf\n",
    "\n"
   ]
  },
  {
   "cell_type": "code",
   "execution_count": 21,
   "metadata": {},
   "outputs": [
    {
     "name": "stdout",
     "output_type": "stream",
     "text": [
      "            +-----------+           \n",
      "            | __start__ |           \n",
      "            +-----------+           \n",
      "                  *                 \n",
      "                  *                 \n",
      "                  *                 \n",
      "           +------------+           \n",
      "           | start_play |           \n",
      "           +------------+           \n",
      "           ...         ...          \n",
      "          .               .         \n",
      "        ..                 ..       \n",
      "+-----------+           +---------+ \n",
      "| badminton |           | cricket | \n",
      "+-----------+           +---------+ \n",
      "           ***         ***          \n",
      "              *       *             \n",
      "               **   **              \n",
      "            +---------+             \n",
      "            | __end__ |             \n",
      "            +---------+             \n",
      "✅ Graph rendered as ASCII art!\n"
     ]
    }
   ],
   "source": [
    "from IPython.display import SVG, display\n",
    "from langgraph.graph import StateGraph, START, END\n",
    "\n",
    "\n",
    "# #Build Graph\n",
    "graph=StateGraph(State)\n",
    "\n",
    "\n",
    "# ## add all the node\n",
    "graph.add_node(\"start_play\", start_play)\n",
    "graph.add_node(\"cricket\", cricket)\n",
    "graph.add_node(\"badminton\", badminton)\n",
    "\n",
    "graph.add_edge(START, \"start_play\")\n",
    "graph.add_conditional_edges(\"start_play\", random_play)\n",
    "graph.add_edge(\"cricket\", END)\n",
    "graph.add_edge(\"badminton\", END)\n",
    "\n",
    "graphbuilder = graph.compile()\n",
    "\n",
    "# Display as SVG\n",
    "try:\n",
    "    ascii_art = graphbuilder.get_graph().draw_ascii()\n",
    "    print(ascii_art)\n",
    "    print(\"✅ Graph rendered as ASCII art!\")\n",
    "except Exception as e:\n",
    "    print(\"❌ Failed to render ASCII graph:\")\n",
    "    print(e)\n"
   ]
  },
  {
   "cell_type": "code",
   "execution_count": 22,
   "metadata": {},
   "outputs": [],
   "source": [
    "#pip install sentence-transformers langchain chromadb\n"
   ]
  },
  {
   "cell_type": "markdown",
   "metadata": {},
   "source": [
    "How Vector DB -> CHroma DB is used"
   ]
  },
  {
   "cell_type": "code",
   "execution_count": 23,
   "metadata": {},
   "outputs": [
    {
     "name": "stdout",
     "output_type": "stream",
     "text": [
      "Car is a vehicle\n",
      "Car is a vehicle\n"
     ]
    }
   ],
   "source": [
    "from langchain.embeddings import HuggingFaceEmbeddings\n",
    "from langchain.vectorstores import Chroma\n",
    "\n",
    "# Use a local embedding model (downloads automatically)\n",
    "embedder = HuggingFaceEmbeddings(model_name=\"sentence-transformers/all-MiniLM-L6-v2\")\n",
    "\n",
    "# Your text data\n",
    "texts = [\"Apple is a fruit\", \"Orange is a citrus\", \"Car is a vehicle\"]\n",
    "\n",
    "# Store and search using Chroma\n",
    "vectorstore = Chroma.from_texts(texts, embedder)\n",
    "#print(\tvectorstore._collection.get())\n",
    "\n",
    "# Perform semantic search\n",
    "docs = vectorstore.similarity_search(\"What is a Leamon?\", k=2)\n",
    "\n",
    "# Show results\n",
    "for doc in docs:\n",
    "    print(doc.page_content)\n"
   ]
  },
  {
   "cell_type": "code",
   "execution_count": 27,
   "metadata": {},
   "outputs": [],
   "source": [
    "#pip install spacy\n",
    "#Terminal run ---> python -m spacy download en_core_web_sm --verbose"
   ]
  },
  {
   "cell_type": "markdown",
   "metadata": {},
   "source": [
    "NLP Basics, it analysis the text different form Generative AI"
   ]
  },
  {
   "cell_type": "code",
   "execution_count": 34,
   "metadata": {},
   "outputs": [
    {
     "name": "stdout",
     "output_type": "stream",
     "text": [
      "Barack Obama - PERSON\n",
      "America - GPE\n"
     ]
    }
   ],
   "source": [
    "import spacy\n",
    "\n",
    "nlp=spacy.load(\"en_core_web_sm\")\n",
    "\n",
    "data=\"Barack Obama made America great when he was President\"\n",
    "\n",
    "text = \"Elon Musk founded SpaceX in California in 2002.\"\n",
    "doc=nlp(data)\n",
    "\n",
    "for i in doc.ents:\n",
    "    print(i.text,\"-\",i.label_)"
   ]
  },
  {
   "cell_type": "code",
   "execution_count": 74,
   "metadata": {},
   "outputs": [
    {
     "name": "stdout",
     "output_type": "stream",
     "text": [
      "Polarity:-0.20Neagtive\n",
      "Subjectivity: 0.40 (0 = Objective, 1 = Subjective)\n",
      "PERSON-->ArunORG-->Data EngineerDATE-->2022\n"
     ]
    }
   ],
   "source": [
    "import spacy\n",
    "from textblob import TextBlob\n",
    "\n",
    "nlp=spacy.load(\"en_core_web_sm\")\n",
    "\n",
    "ft=\"My name is Arun, I work as Data Engineer in singapore since 2022\"\n",
    "\n",
    "#phrase=\"I fell low today with full energetic but something makes me sad if i think about past life\"\n",
    "\n",
    "phrase=\"I like the Apple which is round in shape\"\n",
    "data=nlp(ft)\n",
    "blob=TextBlob(phrase)\n",
    "sentiments=blob.sentiment\n",
    "pol=sentiments.polarity\n",
    "\n",
    "#for i in data.ents:\n",
    "if pol<0:\n",
    "    label=\"Neagtive\"\n",
    "elif pol>0:\n",
    "    label=\"Positve\"\n",
    "elif pol==0:\n",
    "    label=\"Neutral\"\n",
    "\n",
    "\n",
    "print(f\"Polarity:{sentiments.polarity:.2f}{label}\")\n",
    "\n",
    "print(f\"Subjectivity: {sentiments.subjectivity:.2f} (0 = Objective, 1 = Subjective)\")\n",
    "\n",
    "print(''.join(f\"{i.label_}-->{i.text}\" for i in data.ents))"
   ]
  },
  {
   "cell_type": "code",
   "execution_count": 62,
   "metadata": {},
   "outputs": [
    {
     "name": "stdout",
     "output_type": "stream",
     "text": [
      "0.625\n"
     ]
    }
   ],
   "source": [
    "from textblob import TextBlob\n",
    "\n",
    "text = \"I love programming!\"\n",
    "blob = TextBlob(text)\n",
    "\n",
    "print(blob.sentiment.polarity)\n"
   ]
  },
  {
   "cell_type": "markdown",
   "metadata": {},
   "source": [
    "HIVE Table Creation"
   ]
  },
  {
   "cell_type": "code",
   "execution_count": 27,
   "metadata": {},
   "outputs": [
    {
     "name": "stdout",
     "output_type": "stream",
     "text": [
      "hi\n",
      " Table: customer\n",
      "Columns:\n",
      "- id INT\n",
      "- name STRING\n",
      "- email STRING\n",
      "\n",
      "Table: orders\n",
      "Columns:\n",
      "- order_id INT\n",
      "- customer_id INT\n",
      "- order_date STRING\n",
      "\n"
     ]
    }
   ],
   "source": [
    "import os\n",
    "from PyPDF2 import PdfReader\n",
    "filepath=\"/Users/arunkumar/AI_Models/LangGraph/Hive_Table.pdf\"\n",
    "content='\\n'\n",
    "if os.path.exists(filepath):\n",
    "\n",
    "        with open(filepath,'r') as file:\n",
    "            content =file.read()\n",
    "print(\"hi\\n\",content)\n",
    "\n"
   ]
  },
  {
   "cell_type": "code",
   "execution_count": 81,
   "metadata": {},
   "outputs": [
    {
     "name": "stdout",
     "output_type": "stream",
     "text": [
      "['Table: customer', 'Columns:', '- id INT', '- name STRING', '- email STRING', '', 'Table: orders', 'Columns:', '- order_id INT', '- customer_id INT', '- order_date STRING', '']\n",
      "Table: customer\n",
      "Columns:\n",
      "- id INT\n",
      "- name STRING\n",
      "- email STRING\n",
      "\n",
      "Table: orders\n",
      "Columns:\n",
      "- order_id INT\n",
      "- customer_id INT\n",
      "- order_date STRING\n",
      "\n",
      "['Table: customer', 'Columns:', '- id INT', '- name STRING', '- email STRING', '', 'Table: orders', 'Columns:', '- order_id INT', '- customer_id INT', '- order_date STRING', '']\n"
     ]
    }
   ],
   "source": [
    "#print(\"\\n\".join(content.lower().split(\"\\n\")))\n",
    "l=[]\n",
    "for i in content.split(\"\\n\"):\n",
    "    \n",
    "    l.append(i)\n",
    "print(l)\n",
    "for j in l:\n",
    "    \n",
    "    j.replace(\"-\",\"\")\n",
    "    print(j)\n",
    "print(l)\n"
   ]
  },
  {
   "cell_type": "code",
   "execution_count": 83,
   "metadata": {},
   "outputs": [
    {
     "name": "stdout",
     "output_type": "stream",
     "text": [
      "Table: customer\n",
      "Columns:\n",
      "- id INT\n",
      "- name STRING\n",
      "- email STRING\n",
      "\n",
      "Table: orders\n",
      "Columns:\n",
      "- order_id INT\n",
      "- customer_id INT\n",
      "- order_date STRING\n",
      "\n"
     ]
    }
   ],
   "source": [
    "print(content)"
   ]
  },
  {
   "cell_type": "code",
   "execution_count": 88,
   "metadata": {},
   "outputs": [
    {
     "name": "stdout",
     "output_type": "stream",
     "text": [
      "['Table: customer', 'Columns:', 'id INT', 'name STRING', 'email STRING', '', 'Table: orders', 'Columns:', 'order_id INT', 'customer_id INT', 'order_date STRING', '']\n"
     ]
    }
   ],
   "source": [
    "cleaned=[item.replace('-','').strip()if '-' in item else item for item in content.split(\"\\n\")]\n",
    "print(cleaned)"
   ]
  },
  {
   "cell_type": "code",
   "execution_count": 4,
   "metadata": {},
   "outputs": [
    {
     "name": "stdout",
     "output_type": "stream",
     "text": [
      "1 validation error for Classroom\n",
      "mark.1\n",
      "  Input should be a valid string [type=string_type, input_value=20, input_type=int]\n",
      "    For further information visit https://errors.pydantic.dev/2.11/v/string_type\n"
     ]
    }
   ],
   "source": [
    "from pydantic import BaseModel\n",
    "from typing import List\n",
    "\n",
    "try:\n",
    "    class Classroom(BaseModel):\n",
    "        name:str\n",
    "        mark:List[str]\n",
    "        age:int\n",
    "\n",
    "    classroom=Classroom(name=\"Jacob\",mark=[\"Match\",20],age=25)\n",
    "\n",
    "    print(classroom)\n",
    "\n",
    "except ValueError as e:\n",
    "    print(e)"
   ]
  },
  {
   "cell_type": "code",
   "execution_count": 26,
   "metadata": {},
   "outputs": [
    {
     "name": "stdout",
     "output_type": "stream",
     "text": [
      "Dog name is Buggie\n",
      "Buggie barks\n",
      "11 limits\n"
     ]
    }
   ],
   "source": [
    "class Dog:\n",
    "    def __init__(self,name,age):\n",
    "        self.name=name\n",
    "        self.age=age\n",
    "\n",
    "    def bark(self):\n",
    "        return f\"{self.name} barks\"\n",
    "    \n",
    "    def __repr__(self):\n",
    "        return f\"{self.age} limits\"\n",
    "    \n",
    "    def __str__(self):\n",
    "        return f\"Dog name is {self.name}\"\n",
    "    \n",
    "main1=Dog(\"Buggie\",11)\n",
    "print(main1)\n",
    "print(main1.bark())\n",
    "print(repr(main1))"
   ]
  },
  {
   "cell_type": "code",
   "execution_count": 102,
   "metadata": {},
   "outputs": [
    {
     "name": "stdout",
     "output_type": "stream",
     "text": [
      "emp_name='kinto' address=Address(pincode='62001', state='State Not Defined', door=1)\n",
      "Hello\n"
     ]
    }
   ],
   "source": [
    "from typing import Optional\n",
    "from pydantic import Field\n",
    "#from typeguard import typechecked\n",
    "\n",
    "\n",
    "class Address(BaseModel):\n",
    "    pincode:str\n",
    "    state:Optional[str]=Field(default=\"State Not Defined\")\n",
    "    door:int\n",
    "\n",
    "class emp(BaseModel):\n",
    "    emp_name:str\n",
    "    address:Address\n",
    "\n",
    "    #@typechecked\n",
    "    def greet(self) -> str:\n",
    "        \"\"\"Returung the State of the Employee if Defined\"\"\"\n",
    "        if(len(self.address.state)>5 and self.address.door!=0):\n",
    "            #return f\"This is {self.emp_name} from {self.address.state} and my pincode is {self.address.pincode} but my Door num is {type(self.address.door)}\"\n",
    "            return \"Hello\"\n",
    "temp=emp(emp_name=\"kinto\",address={\"pincode\":\"62001\",\"door\":1})\n",
    "print(temp)\n",
    "print(temp.greet())\n",
    "#temp.model_json_schema()"
   ]
  },
  {
   "cell_type": "code",
   "execution_count": null,
   "metadata": {},
   "outputs": [],
   "source": []
  }
 ],
 "metadata": {
  "kernelspec": {
   "display_name": "py312",
   "language": "python",
   "name": "python3"
  },
  "language_info": {
   "codemirror_mode": {
    "name": "ipython",
    "version": 3
   },
   "file_extension": ".py",
   "mimetype": "text/x-python",
   "name": "python",
   "nbconvert_exporter": "python",
   "pygments_lexer": "ipython3",
   "version": "3.12.9"
  }
 },
 "nbformat": 4,
 "nbformat_minor": 2
}
